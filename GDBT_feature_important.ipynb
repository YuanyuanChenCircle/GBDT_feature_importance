{
 "cells": [
  {
   "cell_type": "code",
   "execution_count": 1,
   "metadata": {},
   "outputs": [
    {
     "name": "stderr",
     "output_type": "stream",
     "text": [
      "/home/zqgu/.local/lib/python3.6/site-packages/sklearn/externals/joblib/__init__.py:15: DeprecationWarning: sklearn.externals.joblib is deprecated in 0.21 and will be removed in 0.23. Please import this functionality directly from joblib, which can be installed with: pip install joblib. If this warning is raised when loading pickled models, you may need to re-serialize those models with scikit-learn 0.21+.\n",
      "  warnings.warn(msg, category=DeprecationWarning)\n"
     ]
    },
    {
     "name": "stdout",
     "output_type": "stream",
     "text": [
      "1.0\n",
      "0.999953216374269\n"
     ]
    }
   ],
   "source": [
    "import pandas as pd\n",
    "from sklearn.model_selection import train_test_split\n",
    "from sklearn.ensemble import GradientBoostingClassifier\n",
    "from sklearn.externals import joblib\n",
    "\n",
    "\n",
    "data = pd.read_csv(r\"./data_train.csv\")\n",
    "x_columns = []\n",
    "for x in data.columns:\n",
    "    if x not in ['id', 'label']:\n",
    "        x_columns.append(x)\n",
    "X = data[x_columns]\n",
    "y = data['label']\n",
    "\n",
    "x_train, x_test, y_train, y_test = train_test_split(X, y)\n",
    "\n",
    "# 模型训练，使用GBDT算法\n",
    "gbr = GradientBoostingClassifier(n_estimators=3000, max_depth=2, min_samples_split=2, learning_rate=0.1)\n",
    "gbr.fit(x_train, y_train.ravel())\n",
    "joblib.dump(gbr, 'train_model_result4.m')   # 保存模型\n",
    "\n",
    "y_gbr = gbr.predict(x_train)\n",
    "y_gbr1 = gbr.predict(x_test)\n",
    "acc_train = gbr.score(x_train, y_train)\n",
    "acc_test = gbr.score(x_test, y_test)\n",
    "print(acc_train)\n",
    "print(acc_test)"
   ]
  },
  {
   "cell_type": "code",
   "execution_count": 2,
   "metadata": {},
   "outputs": [
    {
     "name": "stdout",
     "output_type": "stream",
     "text": [
      "(85500, 8)\n"
     ]
    }
   ],
   "source": [
    "import pandas as pd\n",
    "from sklearn.model_selection import train_test_split\n",
    "from sklearn.ensemble import GradientBoostingClassifier\n",
    "from sklearn.externals import joblib\n",
    "\n",
    "\n",
    "data = pd.read_csv(r\"./data_train.csv\")\n",
    "print(data.shape)"
   ]
  },
  {
   "cell_type": "markdown",
   "metadata": {},
   "source": [
    "#### 特征重要性"
   ]
  },
  {
   "cell_type": "code",
   "execution_count": 3,
   "metadata": {},
   "outputs": [
    {
     "name": "stdout",
     "output_type": "stream",
     "text": [
      "   id   K1K2驱动信号    电子锁驱动信号      急停信号       门禁信号     THDV-M      THDI-M  label\n",
      "0   1  11.802741  12.122681 -0.057440  12.089629  11.809618   11.468398      1\n",
      "1   2  11.818357  12.135362 -0.055879  12.056373  11.671259   38.840074      1\n",
      "2   3  11.802741  12.121097 -0.060561  12.038968  12.163057   14.761536      1\n",
      "3   4  11.844897  12.157545 -0.094915  12.059551  10.682868   16.772367      1\n",
      "4   5  11.818357  12.121097 -0.087113  12.054791   9.838321  141.752642      1\n",
      "\n",
      "   id   K1K2驱动信号    电子锁驱动信号      急停信号       门禁信号     THDV-M      THDI-M\n",
      "0   1  11.802741  12.122681 -0.057440  12.089629  11.809618   11.468398\n",
      "1   2  11.818357  12.135362 -0.055879  12.056373  11.671259   38.840074\n",
      "2   3  11.802741  12.121097 -0.060561  12.038968  12.163057   14.761536\n",
      "3   4  11.844897  12.157545 -0.094915  12.059551  10.682868   16.772367\n",
      "4   5  11.818357  12.121097 -0.087113  12.054791   9.838321  141.752642\n",
      "(85500, 7)\n"
     ]
    }
   ],
   "source": [
    "print(data.head())\n",
    "print()\n",
    "x_data = data.iloc[:,0:-1]\n",
    "print(x_data.head())\n",
    "\n",
    "print(x_data.shape)"
   ]
  },
  {
   "cell_type": "code",
   "execution_count": 4,
   "metadata": {},
   "outputs": [],
   "source": [
    "import matplotlib.pyplot as plt"
   ]
  },
  {
   "cell_type": "code",
   "execution_count": 21,
   "metadata": {},
   "outputs": [
    {
     "name": "stdout",
     "output_type": "stream",
     "text": [
      "K1K2驱动信号    0.034979\n",
      "电子锁驱动信号     0.020196\n",
      "急停信号        0.020362\n",
      "门禁信号        0.083536\n",
      "THDV-M      0.836974\n",
      "THDI-M      0.003952\n",
      "dtype: float64\n",
      "THDI-M      0.003952\n",
      "电子锁驱动信号     0.020196\n",
      "急停信号        0.020362\n",
      "K1K2驱动信号    0.034979\n",
      "门禁信号        0.083536\n",
      "THDV-M      0.836974\n",
      "dtype: float64\n",
      "['THDI-M', '电子锁驱动信号', '急停信号', 'K1K2驱动信号', '门禁信号', 'THDV-M']\n",
      "[0.00395219 0.02019622 0.02036213 0.03497919 0.08353629 0.83697399]\n"
     ]
    },
    {
     "data": {
      "image/png": "[encoded data removed]",
      "text/plain": [
       "<Figure size 720x360 with 1 Axes>"
      ]
     },
     "metadata": {
      "needs_background": "light"
     },
     "output_type": "display_data"
    }
   ],
   "source": [
    "importance = gbr.feature_importances_\n",
    "Impt_Series = pd.Series(importance, index = x_train.columns)\n",
    "print(Impt_Series)\n",
    "\n",
    "\n",
    "\n",
    "# Impt_Series.sort_values(ascending = True).plot('barh')\n",
    "Impt_Series = Impt_Series.sort_values(ascending = True)\n",
    "\n",
    "print(Impt_Series)\n",
    "print(list(Impt_Series.index))\n",
    "Y = list(Impt_Series.index)\n",
    "# 绘制条形图\n",
    "plt.figure(figsize=(10,5)) \n",
    "plt.barh(range(len(Y)), # 指定条形图y轴的刻度值\n",
    "        Impt_Series.values, # 指定条形图x轴的数值\n",
    "        tick_label = Y, # 指定条形图y轴的刻度标签\n",
    "        color = 'steelblue', # 指定条形图的填充色\n",
    "       )\n",
    "\n",
    "print(Impt_Series.values)\n",
    "# print()\n",
    "for y,x in enumerate(Impt_Series.values):\n",
    "    plt.text(x+0.0001,y,'%s' %round(x,3),va='center')\n",
    "plt.show()"
   ]
  },
  {
   "cell_type": "code",
   "execution_count": null,
   "metadata": {},
   "outputs": [],
   "source": []
  }
 ],
 "metadata": {
  "kernelspec": {
   "display_name": "Python 3",
   "language": "python",
   "name": "python3"
  },
  "language_info": {
   "codemirror_mode": {
    "name": "ipython",
    "version": 3
   },
   "file_extension": ".py",
   "mimetype": "text/x-python",
   "name": "python",
   "nbconvert_exporter": "python",
   "pygments_lexer": "ipython3",
   "version": "3.6.9"
  }
 },
 "nbformat": 4,
 "nbformat_minor": 2
}
